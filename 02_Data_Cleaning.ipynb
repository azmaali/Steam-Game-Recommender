{
 "cells": [
  {
   "cell_type": "markdown",
   "metadata": {
    "application/vnd.databricks.v1+cell": {
     "cellMetadata": {},
     "inputWidgets": {},
     "nuid": "dbd62a19-2a77-4f44-8a05-62fb0cfb8555",
     "showTitle": false,
     "tableResultSettingsMap": {},
     "title": ""
    }
   },
   "source": [
    "# Data Cleaning"
   ]
  },
  {
   "cell_type": "markdown",
   "metadata": {
    "application/vnd.databricks.v1+cell": {
     "cellMetadata": {},
     "inputWidgets": {},
     "nuid": "77153ba2-4136-4056-9b7c-b61da4efb56d",
     "showTitle": false,
     "tableResultSettingsMap": {},
     "title": ""
    }
   },
   "source": [
    "Encode categories (string,boolean)\n",
    "\n"
   ]
  },
  {
   "cell_type": "code",
   "execution_count": 0,
   "metadata": {
    "application/vnd.databricks.v1+cell": {
     "cellMetadata": {
      "byteLimit": 2048000,
      "rowLimit": 10000
     },
     "inputWidgets": {},
     "nuid": "8d03fbe8-769e-4e83-9370-3c4052a81c4b",
     "showTitle": false,
     "tableResultSettingsMap": {},
     "title": ""
    }
   },
   "outputs": [],
   "source": [
    "import importlib\n",
    "importlib.invalidate_caches()"
   ]
  },
  {
   "cell_type": "code",
   "execution_count": 0,
   "metadata": {
    "application/vnd.databricks.v1+cell": {
     "cellMetadata": {
      "byteLimit": 2048000,
      "rowLimit": 10000
     },
     "inputWidgets": {},
     "nuid": "513df2d2-7857-49d3-a50f-c9cae4cd0e6b",
     "showTitle": false,
     "tableResultSettingsMap": {},
     "title": ""
    }
   },
   "outputs": [],
   "source": [
    "%run \"./00_Data_Loading\" "
   ]
  },
  {
   "cell_type": "code",
   "execution_count": 0,
   "metadata": {
    "application/vnd.databricks.v1+cell": {
     "cellMetadata": {
      "byteLimit": 2048000,
      "rowLimit": 10000
     },
     "inputWidgets": {},
     "nuid": "bcef5657-3406-490d-a8a2-f4bd6d6cb6b4",
     "showTitle": false,
     "tableResultSettingsMap": {},
     "title": ""
    }
   },
   "outputs": [],
   "source": [
    "from utils import data_cleaning as dc\n",
    "from data import steam_api_response_contract as contract\n",
    "from data import tag_mappings \n",
    "from utils import config\n",
    "import importlib\n",
    "importlib.reload(contract)\n",
    "importlib.reload(tag_mappings)\n",
    "importlib.reload(dc)"
   ]
  },
  {
   "cell_type": "markdown",
   "metadata": {
    "application/vnd.databricks.v1+cell": {
     "cellMetadata": {},
     "inputWidgets": {},
     "nuid": "2478f0e6-04c5-4f36-bdcf-e78a91b4729c",
     "showTitle": false,
     "tableResultSettingsMap": {},
     "title": ""
    }
   },
   "source": [
    "### Convert to correct data types "
   ]
  },
  {
   "cell_type": "markdown",
   "metadata": {
    "application/vnd.databricks.v1+cell": {
     "cellMetadata": {},
     "inputWidgets": {},
     "nuid": "f5e53f58-dfc6-4569-b8ff-42d2f8c421da",
     "showTitle": false,
     "tableResultSettingsMap": {},
     "title": ""
    }
   },
   "source": [
    "## Data Quality Checks "
   ]
  },
  {
   "cell_type": "markdown",
   "metadata": {
    "application/vnd.databricks.v1+cell": {
     "cellMetadata": {},
     "inputWidgets": {},
     "nuid": "6448be5f-aa6d-400c-982d-c8d8645e8d4f",
     "showTitle": false,
     "tableResultSettingsMap": {},
     "title": ""
    }
   },
   "source": [
    "### Fill Missing Data \n",
    "\n",
    "We might be able to fill the missing data using the steam api for rows with at least 1 missing column. CANT INCLUDE DISCOUNT BECAUSE RECOMMENDATIONS WAS COLLECTED AT A SPECIFIC AND A DISCOUNT NOW WOULDNT"
   ]
  },
  {
   "cell_type": "markdown",
   "metadata": {
    "application/vnd.databricks.v1+cell": {
     "cellMetadata": {},
     "inputWidgets": {},
     "nuid": "0c3cf955-8cef-425e-8b4c-6c48255e1217",
     "showTitle": false,
     "tableResultSettingsMap": {},
     "title": ""
    }
   },
   "source": [
    "Games DataFrame"
   ]
  },
  {
   "cell_type": "code",
   "execution_count": 0,
   "metadata": {
    "application/vnd.databricks.v1+cell": {
     "cellMetadata": {},
     "inputWidgets": {},
     "nuid": "8751e2fe-6d59-4536-af31-c185834ec8ba",
     "showTitle": false,
     "tableResultSettingsMap": {},
     "title": ""
    }
   },
   "outputs": [],
   "source": [
    "\n",
    "def enrich_game_metadata_row(game_data, row):\n",
    "\n",
    "    description = game_data[\"short_description\"]\n",
    "    genres = game_data[\"genres\"]\n",
    "\n",
    "    if description is None or description == \"\":\n",
    "        return None \n",
    "    \n",
    "    if genres is None or len(genres) == 0:\n",
    "        return None\n",
    "    \n",
    "    tags = [genre[\"description\"] for genre in genres]\n",
    "\n",
    "\n",
    "\n",
    "    "
   ]
  },
  {
   "cell_type": "markdown",
   "metadata": {
    "application/vnd.databricks.v1+cell": {
     "cellMetadata": {},
     "inputWidgets": {},
     "nuid": "8c2848e9-11e1-4d23-a6df-44822544327e",
     "showTitle": false,
     "tableResultSettingsMap": {},
     "title": ""
    }
   },
   "source": [
    "### Remove Missing"
   ]
  },
  {
   "cell_type": "markdown",
   "metadata": {
    "application/vnd.databricks.v1+cell": {
     "cellMetadata": {},
     "inputWidgets": {},
     "nuid": "68321d10-2b80-4ef1-b4a4-4140609bdb69",
     "showTitle": false,
     "tableResultSettingsMap": {},
     "title": ""
    }
   },
   "source": [
    "### Remove Duplicates \n",
    "\n",
    "Decide which ones you want to keep based on X rule "
   ]
  },
  {
   "cell_type": "markdown",
   "metadata": {
    "application/vnd.databricks.v1+cell": {
     "cellMetadata": {},
     "inputWidgets": {},
     "nuid": "89b3550c-eca3-4132-853b-d9d75f375df5",
     "showTitle": false,
     "tableResultSettingsMap": {},
     "title": ""
    }
   },
   "source": []
  },
  {
   "cell_type": "markdown",
   "metadata": {
    "application/vnd.databricks.v1+cell": {
     "cellMetadata": {},
     "inputWidgets": {},
     "nuid": "58d30226-889c-4bfc-94d2-938768496abb",
     "showTitle": false,
     "tableResultSettingsMap": {},
     "title": ""
    }
   },
   "source": [
    "### Type Casting & Data Formatting"
   ]
  },
  {
   "cell_type": "code",
   "execution_count": 0,
   "metadata": {
    "application/vnd.databricks.v1+cell": {
     "cellMetadata": {
      "byteLimit": 2048000,
      "rowLimit": 10000
     },
     "inputWidgets": {},
     "nuid": "fcb05a59-b81e-4e73-912d-7c83cce0f2ab",
     "showTitle": false,
     "tableResultSettingsMap": {},
     "title": ""
    }
   },
   "outputs": [],
   "source": [
    "from pyspark.sql.functions import col\n",
    "\n",
    "cleaned_games_df = games_df \\\n",
    "    .withColumn(\"app_id\", col(\"app_id\").cast(\"long\")) \\\n",
    "    .withColumn(\"date_release\", col(\"date_release\").cast(\"date\")) \\\n",
    "    .withColumn(\"win\", col(\"win\").cast(\"boolean\")) \\\n",
    "    .withColumn(\"mac\", col(\"mac\").cast(\"boolean\")) \\\n",
    "    .withColumn(\"linux\", col(\"linux\").cast(\"boolean\")) \\\n",
    "    .withColumn(\"steam_deck\", col(\"steam_deck\").cast(\"boolean\")) \\\n",
    "    .withColumn(\"positive_ratio\", col(\"positive_ratio\").cast(\"float\")) \\\n",
    "    .withColumn(\"user_reviews\", col(\"user_reviews\").cast(\"int\")) \\\n",
    "    .withColumn(\"price_final\", col(\"price_final\").cast(\"float\")) \\\n",
    "    .withColumn(\"price_original\", col(\"price_original\").cast(\"float\")) \\\n",
    "    .withColumn(\"discount\", col(\"discount\").cast(\"float\")) \n",
    "\n",
    "\n",
    "cleaned_recommendations_df = recommendations_df \\\n",
    "    .withColumn(\"app_id\", col(\"app_id\").cast(\"long\")) \\\n",
    "    .withColumn(\"helpful\", col(\"helpful\").cast(\"int\")) \\\n",
    "    .withColumn(\"funny\", col(\"funny\").cast(\"int\")) \\\n",
    "    .withColumn(\"date\", col(\"date\").cast(\"date\")) \\\n",
    "    .withColumn(\"is_recommended\", col(\"is_recommended\").cast(\"boolean\")) \\\n",
    "    .withColumn(\"hours\", col(\"hours\").cast(\"float\")) \\\n",
    "    .withColumn(\"user_id\", col(\"user_id\").cast(\"long\")) \\\n",
    "    .withColumn(\"review_id\", col(\"review_id\").cast(\"long\")) \n",
    "\n",
    "\n",
    "cleaned_users_df = users_df \\\n",
    "    .withColumn(\"user_id\", col(\"user_id\").cast(\"long\")) \\\n",
    "    .withColumn(\"products\", col(\"products\").cast(\"int\")) \\\n",
    "    .withColumn(\"reviews\", col(\"reviews\").cast(\"int\"))\n"
   ]
  },
  {
   "cell_type": "code",
   "execution_count": 0,
   "metadata": {
    "application/vnd.databricks.v1+cell": {
     "cellMetadata": {
      "byteLimit": 2048000,
      "rowLimit": 10000
     },
     "inputWidgets": {},
     "nuid": "53e0d2b6-6765-43b4-a3eb-6ce5868f2b27",
     "showTitle": false,
     "tableResultSettingsMap": {},
     "title": ""
    }
   },
   "outputs": [],
   "source": [
    "# Games DataFrame\n",
    "print(\"Games DF\")\n",
    "cleaned_games_df.printSchema()\n",
    "\n",
    "# Games Metadata DataFrame\n",
    "print(\"Games Metadata DF\")\n",
    "cleaned_games_metadata_df.printSchema()\n",
    "\n",
    "\n",
    "# Recommendations DataFrame\n",
    "print(\"Recommendations DF\")\n",
    "cleaned_recommendations_df.printSchema()\n",
    "\n",
    "\n",
    "# Users DataFrame\n",
    "print(\"Users DF\")\n",
    "cleaned_users_df.printSchema()\n"
   ]
  },
  {
   "cell_type": "markdown",
   "metadata": {
    "application/vnd.databricks.v1+cell": {
     "cellMetadata": {},
     "inputWidgets": {},
     "nuid": "9fcd1a98-4360-4c1e-8e4d-c0afaac7add1",
     "showTitle": false,
     "tableResultSettingsMap": {},
     "title": ""
    }
   },
   "source": [
    "## Map Tags \n"
   ]
  },
  {
   "cell_type": "code",
   "execution_count": 0,
   "metadata": {
    "application/vnd.databricks.v1+cell": {
     "cellMetadata": {
      "byteLimit": 2048000,
      "rowLimit": 10000
     },
     "inputWidgets": {},
     "nuid": "8984902f-29cb-46b4-9b90-0302bd5337cf",
     "showTitle": false,
     "tableResultSettingsMap": {},
     "title": ""
    }
   },
   "outputs": [],
   "source": [
    "import re\n",
    "from pyspark.sql.types import ArrayType, StringType\n",
    "from pyspark.sql.functions import udf\n",
    "\n",
    "def normalize_tag_key(tag):\n",
    "    if tag is None:\n",
    "        return None\n",
    "    tag = tag.lower().strip()\n",
    "    tag = re.sub(r\"[\\s\\-]+\", \" \", tag)\n",
    "    tag = tag.replace(\" \", \"-\")\n",
    "\n",
    "    #print(\"cleaned tag: \"   +tag)\n",
    "    return tag\n",
    "\n",
    "def normalize_tags(tags):\n",
    "    if not tags:\n",
    "        return []\n",
    "    normalized = []\n",
    "    for t in tags:\n",
    "\n",
    "        if t != \"\" or \"NA\" != t:\n",
    "            key = normalize_tag_key(t)\n",
    "\n",
    "            normalized.append(tag_mappings.tag_mappings.get(key, key))\n",
    "    return normalized\n",
    "\n",
    "normalize_tags_udf = udf(normalize_tags, ArrayType(StringType()))\n",
    "\n",
    "\n",
    "\n",
    "\n",
    "\n",
    "\n",
    "\n"
   ]
  },
  {
   "cell_type": "code",
   "execution_count": 0,
   "metadata": {
    "application/vnd.databricks.v1+cell": {
     "cellMetadata": {
      "byteLimit": 2048000,
      "rowLimit": 10000
     },
     "inputWidgets": {},
     "nuid": "12b31577-eac2-4288-9331-83672f0e7ff2",
     "showTitle": false,
     "tableResultSettingsMap": {},
     "title": ""
    }
   },
   "outputs": [],
   "source": [
    "cleaned_games_metadata_df = games_metadata_df.withColumn(\"tags\", normalize_tags_udf(col(\"tags\")))\n",
    "cleaned_games_metadata_df.select(\"tags\").show(truncate=False)\n"
   ]
  },
  {
   "cell_type": "markdown",
   "metadata": {
    "application/vnd.databricks.v1+cell": {
     "cellMetadata": {},
     "inputWidgets": {},
     "nuid": "ad8da96e-e1a0-47e9-8741-f17d93bb5f3f",
     "showTitle": false,
     "tableResultSettingsMap": {},
     "title": ""
    }
   },
   "source": [
    "example"
   ]
  },
  {
   "cell_type": "code",
   "execution_count": 0,
   "metadata": {
    "application/vnd.databricks.v1+cell": {
     "cellMetadata": {},
     "inputWidgets": {},
     "nuid": "b6173880-96a5-45ae-af39-29887104aee8",
     "showTitle": false,
     "tableResultSettingsMap": {},
     "title": ""
    }
   },
   "outputs": [],
   "source": [
    "tags = [\"Co-op\", \"Stealth\", \"Indie\"]\n",
    "\n",
    "print(normalize_tags(tags))"
   ]
  },
  {
   "cell_type": "code",
   "execution_count": 0,
   "metadata": {
    "application/vnd.databricks.v1+cell": {
     "cellMetadata": {},
     "inputWidgets": {},
     "nuid": "a6a26be1-4774-45d0-8103-58ba74f632f1",
     "showTitle": false,
     "tableResultSettingsMap": {},
     "title": ""
    }
   },
   "outputs": [],
   "source": [
    "print(tag_mappings.tag_mappings)"
   ]
  },
  {
   "cell_type": "markdown",
   "metadata": {
    "application/vnd.databricks.v1+cell": {
     "cellMetadata": {},
     "inputWidgets": {},
     "nuid": "e57ec310-92a1-42ad-adb9-93b159c46532",
     "showTitle": false,
     "tableResultSettingsMap": {},
     "title": ""
    }
   },
   "source": [
    "###  Encoding Categorical Variables"
   ]
  },
  {
   "cell_type": "code",
   "execution_count": 0,
   "metadata": {
    "application/vnd.databricks.v1+cell": {
     "cellMetadata": {
      "byteLimit": 2048000,
      "rowLimit": 10000
     },
     "inputWidgets": {},
     "nuid": "11466562-4b3f-4f49-876f-67a8ad0e685c",
     "showTitle": false,
     "tableResultSettingsMap": {},
     "title": ""
    }
   },
   "outputs": [],
   "source": [
    "rating_list = [row['rating'] for row in games_df.select(\"rating\").distinct().collect()]\n",
    "\n",
    "# Define the correct order manually\n",
    "rating_order = [\n",
    "    'Overwhelmingly Negative',\n",
    "    'Very Negative', \n",
    "    'Mostly Negative',\n",
    "    'Negative',\n",
    "    'Mixed',\n",
    "    'Mostly Positive',\n",
    "    'Positive',\n",
    "    'Very Positive',\n",
    "    'Overwhelmingly Positive'\n",
    "]\n",
    "\n",
    "# Create mapping dictionary\n",
    "rating_mapping = {rating: idx for idx, rating in enumerate(rating_order)}\n",
    "print(rating_mapping)"
   ]
  },
  {
   "cell_type": "code",
   "execution_count": 0,
   "metadata": {
    "application/vnd.databricks.v1+cell": {
     "cellMetadata": {
      "byteLimit": 2048000,
      "rowLimit": 10000
     },
     "inputWidgets": {},
     "nuid": "115cc5ce-74d1-454e-bce4-d8d47a73f3a1",
     "showTitle": false,
     "tableResultSettingsMap": {},
     "title": ""
    }
   },
   "outputs": [],
   "source": [
    "cleaned_games_df = dc.encode_column(games_df, \"rating\", rating_mapping)"
   ]
  },
  {
   "cell_type": "markdown",
   "metadata": {
    "application/vnd.databricks.v1+cell": {
     "cellMetadata": {},
     "inputWidgets": {},
     "nuid": "15ee067c-4dcb-492f-a3e7-4fe6ea89dc32",
     "showTitle": false,
     "tableResultSettingsMap": {},
     "title": ""
    }
   },
   "source": [
    "### Join games with games metadata"
   ]
  },
  {
   "cell_type": "code",
   "execution_count": 0,
   "metadata": {
    "application/vnd.databricks.v1+cell": {
     "cellMetadata": {
      "byteLimit": 2048000,
      "rowLimit": 10000
     },
     "inputWidgets": {},
     "nuid": "4ccbb1e5-2052-4851-a30b-8ce968d6706a",
     "showTitle": false,
     "tableResultSettingsMap": {},
     "title": ""
    }
   },
   "outputs": [],
   "source": [
    "\n",
    "joined_games_df = games_df.join(\n",
    "    games_metadata_df.select(\"app_id\", \"description\", \"tags\"),\n",
    "    on=\"app_id\",\n",
    "    how=\"left\"\n",
    ")\n",
    "\n",
    "\n",
    "\n",
    "joined_games_df.write.mode(\"overwrite\").parquet(fp)\n"
   ]
  },
  {
   "cell_type": "code",
   "execution_count": 0,
   "metadata": {
    "application/vnd.databricks.v1+cell": {
     "cellMetadata": {},
     "inputWidgets": {},
     "nuid": "dc2b9ed3-e5bb-40fd-a6ea-b555d675a3e6",
     "showTitle": false,
     "tableResultSettingsMap": {},
     "title": ""
    }
   },
   "outputs": [],
   "source": []
  },
  {
   "cell_type": "code",
   "execution_count": 0,
   "metadata": {
    "application/vnd.databricks.v1+cell": {
     "cellMetadata": {
      "byteLimit": 2048000,
      "rowLimit": 10000
     },
     "inputWidgets": {},
     "nuid": "e957f9e3-cee0-45f9-ba64-03b9b6448b45",
     "showTitle": false,
     "tableResultSettingsMap": {},
     "title": ""
    }
   },
   "outputs": [],
   "source": [
    "joined_games_df.take(5)"
   ]
  },
  {
   "cell_type": "code",
   "execution_count": 0,
   "metadata": {
    "application/vnd.databricks.v1+cell": {
     "cellMetadata": {},
     "inputWidgets": {},
     "nuid": "7b5b7afa-9342-4615-97e5-5148ba341792",
     "showTitle": false,
     "tableResultSettingsMap": {},
     "title": ""
    }
   },
   "outputs": [],
   "source": [
    "import requests \n",
    "import requests\n",
    "\n",
    "\n",
    " # filter by rows that are null or empty. \n",
    "\n",
    "\n",
    "\n",
    "\n",
    "\n",
    "app_id = 371970  # Dota 2\n",
    "url = f\"https://store.steampowered.com/api/appdetails?appids={app_id}\"\n",
    "\n",
    "response = requests.get(url)\n",
    "data = response.json()\n",
    "\n",
    "game_data = data[str(app_id)]['data']\n",
    "\n",
    "\n",
    "\n",
    "\n",
    "print(game_data)\n",
    "\n",
    "\n"
   ]
  },
  {
   "cell_type": "markdown",
   "metadata": {
    "application/vnd.databricks.v1+cell": {
     "cellMetadata": {},
     "inputWidgets": {},
     "nuid": "748bba9a-2967-45fc-93eb-7c226ab9e329",
     "showTitle": false,
     "tableResultSettingsMap": {},
     "title": ""
    }
   },
   "source": [
    "Store cleaned dataframes"
   ]
  },
  {
   "cell_type": "code",
   "execution_count": 0,
   "metadata": {
    "application/vnd.databricks.v1+cell": {
     "cellMetadata": {
      "byteLimit": 2048000,
      "rowLimit": 10000
     },
     "inputWidgets": {},
     "nuid": "c9436b8f-2307-4621-b4f5-a7cd8fd99f60",
     "showTitle": false,
     "tableResultSettingsMap": {},
     "title": ""
    }
   },
   "outputs": [],
   "source": [
    "\n",
    "cleaned_games_df.write.mode(\"overwrite\").format(\"delta\").save(\"/Volumes/workspace/steam-game-recommender/cleandeddata/games\")\n",
    "\n"
   ]
  },
  {
   "cell_type": "code",
   "execution_count": 0,
   "metadata": {
    "application/vnd.databricks.v1+cell": {
     "cellMetadata": {
      "byteLimit": 2048000,
      "rowLimit": 10000
     },
     "inputWidgets": {},
     "nuid": "db8642d5-6b6c-40b2-9d38-3c9d92b38761",
     "showTitle": false,
     "tableResultSettingsMap": {},
     "title": ""
    }
   },
   "outputs": [],
   "source": [
    "df = spark.read.format(\"delta\").load(\"/Volumes/workspace/steam-game-recommender/cleandeddata\")\n"
   ]
  }
 ],
 "metadata": {
  "application/vnd.databricks.v1+notebook": {
   "computePreferences": null,
   "dashboards": [],
   "environmentMetadata": {
    "base_environment": "",
    "environment_version": "2"
   },
   "inputWidgetPreferences": null,
   "language": "python",
   "notebookMetadata": {
    "pythonIndentUnit": 4
   },
   "notebookName": "02_Data_Cleaning",
   "widgets": {}
  },
  "language_info": {
   "name": "python"
  }
 },
 "nbformat": 4,
 "nbformat_minor": 0
}
