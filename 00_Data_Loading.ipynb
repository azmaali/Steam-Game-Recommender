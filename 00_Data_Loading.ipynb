{
 "cells": [
  {
   "cell_type": "code",
   "execution_count": 0,
   "metadata": {
    "application/vnd.databricks.v1+cell": {
     "cellMetadata": {
      "byteLimit": 2048000,
      "rowLimit": 10000
     },
     "inputWidgets": {},
     "nuid": "daa621dc-3d13-408b-9842-b41f9f8bc5b1",
     "showTitle": false,
     "tableResultSettingsMap": {},
     "title": ""
    }
   },
   "outputs": [],
   "source": [
    "# Spark Core\n",
    "from pyspark.sql import SparkSession\n",
    "from pyspark.sql.functions import col, when, isnan, count, lit\n",
    "from pyspark.sql.types import StructType, StructField, StringType, IntegerType, FloatType, DoubleType, BooleanType, TimestampType\n",
    "\n",
    "# System & Logging\n",
    "import os\n",
    "import logging\n",
    "\n",
    "# For Date Parsing or Versioning\n",
    "from datetime import datetime\n",
    "\n",
    "import pandas as pd\n",
    "\n",
    "import sys\n",
    "sys.path.append(\"/Workspace/Repos/azmaali0@gmail.com/Steam-Game-Recommender\")"
   ]
  },
  {
   "cell_type": "code",
   "execution_count": 0,
   "metadata": {
    "application/vnd.databricks.v1+cell": {
     "cellMetadata": {
      "byteLimit": 2048000,
      "rowLimit": 10000
     },
     "inputWidgets": {},
     "nuid": "da025b52-596e-476d-aa05-681db3ee2cd7",
     "showTitle": false,
     "tableResultSettingsMap": {},
     "title": ""
    }
   },
   "outputs": [],
   "source": [
    "from utils import data_loader \n",
    "from utils import config\n",
    "from utils import logger\n",
    "import importlib\n",
    "importlib.reload(config)\n",
    "importlib.reload(logger)\n",
    "importlib.reload(data_loader)\n",
    "\n",
    "\n",
    "games_df = data_loader.load_csv(spark, config.RAW_GAMES_FILE)\n",
    "games_metadata_df = data_loader.read_json(spark, config.RAW_GAMES_METADATA_FILE)\n",
    "recommendations_df = data_loader.load_csv(spark, config.RAW_RECOMMENDATIONS_FILE)\n",
    "users_df = data_loader.load_csv(spark, config.RAW_USERS_FILE)"
   ]
  }
 ],
 "metadata": {
  "application/vnd.databricks.v1+notebook": {
   "computePreferences": null,
   "dashboards": [],
   "environmentMetadata": {
    "base_environment": "",
    "environment_version": "2"
   },
   "inputWidgetPreferences": null,
   "language": "python",
   "notebookMetadata": {
    "pythonIndentUnit": 4
   },
   "notebookName": "00_Data_Loading",
   "widgets": {}
  },
  "language_info": {
   "name": "python"
  }
 },
 "nbformat": 4,
 "nbformat_minor": 0
}
