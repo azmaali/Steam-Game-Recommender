{
 "cells": [
  {
   "cell_type": "markdown",
   "metadata": {
    "application/vnd.databricks.v1+cell": {
     "cellMetadata": {
      "byteLimit": 2048000,
      "rowLimit": 10000
     },
     "inputWidgets": {},
     "nuid": "24029f55-10b5-4291-8ad5-bfc83c9faae4",
     "showTitle": false,
     "tableResultSettingsMap": {},
     "title": ""
    }
   },
   "source": [
    "# Data Cleaning"
   ]
  },
  {
   "cell_type": "markdown",
   "metadata": {
    "application/vnd.databricks.v1+cell": {
     "cellMetadata": {
      "byteLimit": 2048000,
      "rowLimit": 10000
     },
     "inputWidgets": {},
     "nuid": "cb6d56f2-f087-45fd-8187-1a0012587b98",
     "showTitle": false,
     "tableResultSettingsMap": {},
     "title": ""
    }
   },
   "source": [
    "## 1. Set up"
   ]
  },
  {
   "cell_type": "markdown",
   "metadata": {
    "application/vnd.databricks.v1+cell": {
     "cellMetadata": {
      "byteLimit": 2048000,
      "rowLimit": 10000
     },
     "inputWidgets": {},
     "nuid": "2969f02e-d563-4333-b0ad-5a40070cf0e3",
     "showTitle": false,
     "tableResultSettingsMap": {},
     "title": ""
    }
   },
   "source": [
    "### 1.1 Import Libraries"
   ]
  },
  {
   "cell_type": "code",
   "execution_count": 0,
   "metadata": {
    "application/vnd.databricks.v1+cell": {
     "cellMetadata": {
      "byteLimit": 2048000,
      "rowLimit": 10000
     },
     "inputWidgets": {},
     "nuid": "e0579770-899a-497a-9c0a-e7259623d32f",
     "showTitle": false,
     "tableResultSettingsMap": {},
     "title": ""
    }
   },
   "outputs": [],
   "source": [
    "from utils import data_exploration as dexplor\n",
    "from utils import config\n",
    "import importlib\n",
    "importlib.reload(config)\n",
    "importlib.reload(dexplor)\n"
   ]
  },
  {
   "cell_type": "markdown",
   "metadata": {
    "application/vnd.databricks.v1+cell": {
     "cellMetadata": {
      "byteLimit": 2048000,
      "rowLimit": 10000
     },
     "inputWidgets": {},
     "nuid": "979d61c7-40b2-4b42-b2d7-bb4952a299e1",
     "showTitle": false,
     "tableResultSettingsMap": {},
     "title": ""
    }
   },
   "source": [
    "### 1.2 Load Dataset"
   ]
  },
  {
   "cell_type": "code",
   "execution_count": 0,
   "metadata": {
    "application/vnd.databricks.v1+cell": {
     "cellMetadata": {
      "byteLimit": 2048000,
      "rowLimit": 10000
     },
     "collapsed": true,
     "inputWidgets": {},
     "nuid": "da3ff670-a768-4b4a-841a-a58c7f49b4b7",
     "showTitle": false,
     "tableResultSettingsMap": {},
     "title": ""
    }
   },
   "outputs": [],
   "source": [
    "%run \"./00_Data_Loading\""
   ]
  },
  {
   "cell_type": "markdown",
   "metadata": {
    "application/vnd.databricks.v1+cell": {
     "cellMetadata": {
      "byteLimit": 2048000,
      "rowLimit": 10000
     },
     "inputWidgets": {},
     "nuid": "9d884bfc-0c48-4bc6-9975-71a4f51805a2",
     "showTitle": false,
     "tableResultSettingsMap": {},
     "title": ""
    }
   },
   "source": [
    "## 2. Initial Exploration "
   ]
  },
  {
   "cell_type": "markdown",
   "metadata": {
    "application/vnd.databricks.v1+cell": {
     "cellMetadata": {
      "byteLimit": 2048000,
      "rowLimit": 10000
     },
     "inputWidgets": {},
     "nuid": "8d27bcbe-b076-438a-92a2-7ba138532381",
     "showTitle": false,
     "tableResultSettingsMap": {},
     "title": ""
    }
   },
   "source": [
    "### 2.1 Shape of the Datasets "
   ]
  },
  {
   "cell_type": "code",
   "execution_count": 0,
   "metadata": {
    "application/vnd.databricks.v1+cell": {
     "cellMetadata": {
      "byteLimit": 2048000,
      "rowLimit": 10000
     },
     "inputWidgets": {},
     "nuid": "dd72a241-bec7-4a8f-9ee1-6319c3db19ba",
     "showTitle": false,
     "tableResultSettingsMap": {},
     "title": ""
    }
   },
   "outputs": [],
   "source": [
    "# Games DataFrame\n",
    "print(\"Games DF\")\n",
    "print(games_df.count(), len(games_df.columns))\n",
    "\n",
    "# Games Metadata DataFrame\n",
    "print(\"Games Metadata DF\")\n",
    "print(games_metadata_df.count(), len(games_metadata_df.columns))\n",
    "\n",
    "# Recommendations DataFrame\n",
    "print(\"Recommendations DF\")\n",
    "print(recommendations_df.count(), len(recommendations_df.columns))\n",
    "\n",
    "# Users DataFrame\n",
    "print(\"Users DF\")\n",
    "print(users_df.count(), len(users_df.columns))\n"
   ]
  },
  {
   "cell_type": "markdown",
   "metadata": {
    "application/vnd.databricks.v1+cell": {
     "cellMetadata": {
      "byteLimit": 2048000,
      "rowLimit": 10000
     },
     "inputWidgets": {},
     "nuid": "2d4a222a-8d24-4b5c-8e90-4c5a6385c19a",
     "showTitle": false,
     "tableResultSettingsMap": {},
     "title": ""
    }
   },
   "source": [
    "### 2.2 Preview the Data"
   ]
  },
  {
   "cell_type": "code",
   "execution_count": 0,
   "metadata": {
    "application/vnd.databricks.v1+cell": {
     "cellMetadata": {
      "byteLimit": 2048000,
      "rowLimit": 10000
     },
     "inputWidgets": {},
     "nuid": "e6be76ee-4a6c-4db5-824c-3ea8beada766",
     "showTitle": false,
     "tableResultSettingsMap": {},
     "title": ""
    }
   },
   "outputs": [],
   "source": [
    "# Games DataFrame\n",
    "print(\"Games DF\")\n",
    "display(games_df.limit(5)) \n",
    "\n",
    "# Games Metadata DataFrame\n",
    "print(\"Games Metadata DF\")\n",
    "display(games_metadata_df.limit(5)) \n",
    "\n",
    "# Recommendations DataFrame\n",
    "print(\"Recommendations DF\")\n",
    "display(recommendations_df.limit(5)) \n",
    "\n",
    "# Users DataFrame\n",
    "print(\"Users DF\")\n",
    "display(users_df.limit(5)) "
   ]
  },
  {
   "cell_type": "markdown",
   "metadata": {
    "application/vnd.databricks.v1+cell": {
     "cellMetadata": {
      "byteLimit": 2048000,
      "rowLimit": 10000
     },
     "inputWidgets": {},
     "nuid": "1e0c9890-d59d-4c2c-83ff-26c1d6b7787c",
     "showTitle": false,
     "tableResultSettingsMap": {},
     "title": ""
    }
   },
   "source": [
    "### 2.3 Data Types and Schema "
   ]
  },
  {
   "cell_type": "code",
   "execution_count": 0,
   "metadata": {
    "application/vnd.databricks.v1+cell": {
     "cellMetadata": {
      "byteLimit": 2048000,
      "rowLimit": 10000
     },
     "inputWidgets": {},
     "nuid": "1ab0515b-d99d-4957-89e7-fe7ec256417c",
     "showTitle": false,
     "tableResultSettingsMap": {},
     "title": ""
    }
   },
   "outputs": [],
   "source": [
    "# Games DataFrame\n",
    "print(\"Games DF\")\n",
    "games_df.printSchema()\n",
    "\n",
    "# Games Metadata DataFrame\n",
    "print(\"Games Metadata DF\")\n",
    "games_metadata_df.printSchema()\n",
    "\n",
    "\n",
    "# Recommendations DataFrame\n",
    "print(\"Recommendations DF\")\n",
    "recommendations_df.printSchema()\n",
    "\n",
    "\n",
    "# Users DataFrame\n",
    "print(\"Users DF\")\n",
    "users_df.printSchema()\n"
   ]
  },
  {
   "cell_type": "markdown",
   "metadata": {
    "application/vnd.databricks.v1+cell": {
     "cellMetadata": {
      "byteLimit": 2048000,
      "rowLimit": 10000
     },
     "inputWidgets": {},
     "nuid": "53a3ddde-f491-485e-a3a5-12b3fab7ceb8",
     "showTitle": false,
     "tableResultSettingsMap": {},
     "title": ""
    }
   },
   "source": [
    "### 2.4 Duplicate Rows Check"
   ]
  },
  {
   "cell_type": "markdown",
   "metadata": {
    "application/vnd.databricks.v1+cell": {
     "cellMetadata": {},
     "inputWidgets": {},
     "nuid": "e9c720e2-ce3a-4b14-b3f8-6d50d2400ccd",
     "showTitle": false,
     "tableResultSettingsMap": {},
     "title": ""
    }
   },
   "source": [
    "Check for json data frame "
   ]
  },
  {
   "cell_type": "code",
   "execution_count": 0,
   "metadata": {
    "application/vnd.databricks.v1+cell": {
     "cellMetadata": {
      "byteLimit": 2048000,
      "rowLimit": 10000
     },
     "inputWidgets": {},
     "nuid": "3015d621-8c22-4c59-942f-2416a3cf55d4",
     "showTitle": false,
     "tableResultSettingsMap": {},
     "title": ""
    }
   },
   "outputs": [],
   "source": [
    "\n",
    "\n",
    "# Games DataFrame\n",
    "print(\"Games DF\")\n",
    "dexplor.checkDuplicates(games_df)\n",
    "\n",
    "# Games Metadata DataFrame\n",
    "print(\"Games Metadata DF\")\n",
    "dexplor.checkDuplicates(games_metadata_df)\n",
    "\n",
    "# Recommendations DataFrame\n",
    "print(\"Recommendations DF\")\n",
    "dexplor.checkDuplicates(recommendations_df)\n",
    "\n",
    "# Users DataFrame\n",
    "print(\"Users DF\")\n",
    "dexplor.checkDuplicates(users_df)"
   ]
  },
  {
   "cell_type": "markdown",
   "metadata": {
    "application/vnd.databricks.v1+cell": {
     "cellMetadata": {},
     "inputWidgets": {},
     "nuid": "0a44e503-6620-42dc-82ec-c8ab7b72ac68",
     "showTitle": false,
     "tableResultSettingsMap": {},
     "title": ""
    }
   },
   "source": [
    "Check for json data frame "
   ]
  },
  {
   "cell_type": "code",
   "execution_count": 0,
   "metadata": {
    "application/vnd.databricks.v1+cell": {
     "cellMetadata": {
      "byteLimit": 2048000,
      "rowLimit": 10000
     },
     "inputWidgets": {},
     "nuid": "849d4ba0-825b-42c1-99ba-3ce980bb80af",
     "showTitle": false,
     "tableResultSettingsMap": {},
     "title": ""
    }
   },
   "outputs": [],
   "source": [
    "# Games DataFrame\n",
    "# Check if a game list listed more than once\n",
    "dexplor.check_duplicates_by(games_df, [\"app_id\", \"title\"], \"games_df\")\n",
    "\n",
    "# Games Metadata DataFrame\n",
    "# Check if a game list listed more than once\n",
    "dexplor.check_duplicates_by(games_metadata_df, [\"app_id\", \"description\"], \"games_metadata_df\")\n",
    "\n",
    "# Recommendations DataFrame\n",
    "# Check if a user gave more than one review for a game\n",
    "dexplor.check_duplicates_by(recommendations_df, [\"user_id\", \"app_id\"], \"recommendations_df\")\n",
    "\n",
    "# Users DataFrame \n",
    "# Check if user listed more than once \n",
    "dexplor.check_duplicates_by(users_df, [\"user_id\"], \"users_df\")\n"
   ]
  },
  {
   "cell_type": "markdown",
   "metadata": {
    "application/vnd.databricks.v1+cell": {
     "cellMetadata": {},
     "inputWidgets": {},
     "nuid": "27b9acf7-ca40-4030-81ce-38bac46f5f79",
     "showTitle": false,
     "tableResultSettingsMap": {},
     "title": ""
    }
   },
   "source": [
    "Check for json data frame "
   ]
  },
  {
   "cell_type": "code",
   "execution_count": 0,
   "metadata": {
    "application/vnd.databricks.v1+cell": {
     "cellMetadata": {
      "byteLimit": 2048000,
      "rowLimit": 10000
     },
     "inputWidgets": {},
     "nuid": "e7df08bb-0cbe-4efd-9ca3-7faacd1181df",
     "showTitle": false,
     "tableResultSettingsMap": {},
     "title": ""
    }
   },
   "outputs": [],
   "source": [
    "\n",
    "# Games DataFrame\n",
    "print(\"Games DF\")\n",
    "dexplor.checkSuspiciousStrings(games_df)\n",
    "\n",
    "# Games Metadata DataFrame\n",
    "print(\"Games Metadata DF\")\n",
    "dexplor.checkSuspiciousStrings(games_metadata_df)\n",
    "\n",
    "# Recommendations DataFrame\n",
    "print(\"Recommendations DF\")\n",
    "dexplor.checkSuspiciousStrings(recommendations_df)\n",
    "\n",
    "# Users DataFrame\n",
    "print(\"Users DF\")\n",
    "dexplor.checkSuspiciousStrings(users_df)"
   ]
  },
  {
   "cell_type": "markdown",
   "metadata": {
    "application/vnd.databricks.v1+cell": {
     "cellMetadata": {
      "byteLimit": 2048000,
      "rowLimit": 10000
     },
     "inputWidgets": {},
     "nuid": "45ef0d5d-616d-4388-b760-a6f231b09f9d",
     "showTitle": false,
     "tableResultSettingsMap": {},
     "title": ""
    }
   },
   "source": [
    "###2.5 Null/Missing Values"
   ]
  },
  {
   "cell_type": "markdown",
   "metadata": {
    "application/vnd.databricks.v1+cell": {
     "cellMetadata": {},
     "inputWidgets": {},
     "nuid": "fbbdb70f-d7f7-462a-ad3a-a79be14b136d",
     "showTitle": false,
     "tableResultSettingsMap": {},
     "title": ""
    }
   },
   "source": [
    "Check for null rows \n"
   ]
  },
  {
   "cell_type": "code",
   "execution_count": 0,
   "metadata": {
    "application/vnd.databricks.v1+cell": {
     "cellMetadata": {
      "byteLimit": 2048000,
      "rowLimit": 10000
     },
     "inputWidgets": {},
     "nuid": "6d25ba77-66ef-405c-9e9e-e18388a43038",
     "showTitle": false,
     "tableResultSettingsMap": {},
     "title": ""
    }
   },
   "outputs": [],
   "source": [
    "# Games DataFrame\n",
    "print(\"Games DF\")\n",
    "dexplor.checkNullRows(games_df)\n",
    "\n",
    "# Games Metadata DataFrame\n",
    "print(\"Games Metadata DF\")\n",
    "dexplor.checkNullRows(games_metadata_df)\n",
    "\n",
    "# Recommendations DataFrame\n",
    "print(\"Recommendations DF\")\n",
    "dexplor.checkNullRows(recommendations_df)\n",
    "\n",
    "# Users DataFrame\n",
    "print(\"Users DF\")\n",
    "dexplor.checkNullRows(users_df)"
   ]
  },
  {
   "cell_type": "markdown",
   "metadata": {
    "application/vnd.databricks.v1+cell": {
     "cellMetadata": {
      "byteLimit": 2048000,
      "rowLimit": 10000
     },
     "inputWidgets": {},
     "nuid": "07cf49ab-cae7-4248-8eab-21305b7b3e9b",
     "showTitle": false,
     "tableResultSettingsMap": {},
     "title": ""
    }
   },
   "source": [
    "### 2.6 Summary Statistics"
   ]
  },
  {
   "cell_type": "code",
   "execution_count": 0,
   "metadata": {
    "application/vnd.databricks.v1+cell": {
     "cellMetadata": {
      "byteLimit": 2048000,
      "rowLimit": 10000
     },
     "inputWidgets": {},
     "nuid": "4f5f6649-7dac-476c-a003-b39d8c798ba4",
     "showTitle": false,
     "tableResultSettingsMap": {},
     "title": ""
    }
   },
   "outputs": [],
   "source": [
    "def getNumericColumns(df):\n",
    "    numeric_types = ('int', 'double', 'float', 'decimal')\n",
    "    return [name for name, dtype in df.dtypes if any(dtype.startswith(nt) for nt in numeric_types)]\n",
    "\n",
    "\n",
    "\n",
    "# Games DataFrame\n",
    "print(\"Games DF\")\n",
    "games_df.select(getNumericColumns(games_df)).describe().show()\n",
    "\n",
    "# Recommendations DataFrame\n",
    "print(\"Recommendations DF\")\n",
    "recommendations_df.select(getNumericColumns(recommendations_df)).describe().show()\n",
    "\n",
    "# Users DataFrame\n",
    "print(\"Users DF\")\n",
    "users_df.select(getNumericColumns(users_df)).describe().show()"
   ]
  },
  {
   "cell_type": "markdown",
   "metadata": {
    "application/vnd.databricks.v1+cell": {
     "cellMetadata": {
      "byteLimit": 2048000,
      "rowLimit": 10000
     },
     "inputWidgets": {},
     "nuid": "e8d8a250-a471-4300-a205-a20740bdfbc6",
     "showTitle": false,
     "tableResultSettingsMap": {},
     "title": ""
    }
   },
   "source": [
    "### 2.7 Unique Values / Cardinality"
   ]
  },
  {
   "cell_type": "code",
   "execution_count": 0,
   "metadata": {
    "application/vnd.databricks.v1+cell": {
     "cellMetadata": {
      "byteLimit": 2048000,
      "rowLimit": 10000
     },
     "inputWidgets": {},
     "nuid": "d535090d-7258-455c-acb2-57eee9324201",
     "showTitle": false,
     "tableResultSettingsMap": {},
     "title": ""
    }
   },
   "outputs": [],
   "source": [
    "from pyspark.sql.functions import countDistinct\n",
    "\n",
    "\n",
    "def getCardinality(df):\n",
    "    cardinality_df = df.select([\n",
    "    countDistinct(col(c)).alias(f\"{c}_unique\") for c in df.columns\n",
    "])\n",
    "    cardinality_df.show()\n",
    "    return cardinality_df\n",
    "\n",
    "\n",
    "\n",
    "# Games DataFrame\n",
    "print(\"Games DF\")\n",
    "getCardinality(games_df)\n",
    "\n",
    "# Games Metadata DataFrame\n",
    "print(\"Games Metadata DF\")\n",
    "getCardinality(games_metadata_df)\n",
    "\n",
    "# Recommendations DataFrame\n",
    "print(\"Recommendations DF\")\n",
    "getCardinality(recommendations_df)\n",
    "\n",
    "# Users DataFrame\n",
    "print(\"Users DF\")\n",
    "getCardinality(users_df)\n"
   ]
  },
  {
   "cell_type": "markdown",
   "metadata": {
    "application/vnd.databricks.v1+cell": {
     "cellMetadata": {
      "byteLimit": 2048000,
      "rowLimit": 10000
     },
     "inputWidgets": {},
     "nuid": "27cbc13b-1890-4670-8d61-6260d08d0999",
     "showTitle": false,
     "tableResultSettingsMap": {},
     "title": ""
    }
   },
   "source": [
    "### 2.8 Date range check "
   ]
  },
  {
   "cell_type": "code",
   "execution_count": 0,
   "metadata": {
    "application/vnd.databricks.v1+cell": {
     "cellMetadata": {
      "byteLimit": 2048000,
      "rowLimit": 10000
     },
     "inputWidgets": {},
     "nuid": "4bfac690-ec0b-49e5-9945-600e93fcc4ad",
     "showTitle": false,
     "tableResultSettingsMap": {},
     "title": ""
    }
   },
   "outputs": [],
   "source": [
    "from pyspark.sql.functions import col, min, max\n",
    "from pyspark.sql.types import DateType, TimestampType\n",
    "\n",
    "def getDateRange(df):\n",
    "    date_cols = [field.name for field in df.schema.fields \n",
    "                 if isinstance(field.dataType, (DateType, TimestampType))]\n",
    "\n",
    "    if not date_cols:\n",
    "        print(\"No date or timestamp columns found.\")\n",
    "        return\n",
    "\n",
    "    date_range_df = df.select([\n",
    "        min(col(c)).alias(f\"{c}_min\") for c in date_cols\n",
    "    ] + [\n",
    "        max(col(c)).alias(f\"{c}_max\") for c in date_cols\n",
    "    ])\n",
    "\n",
    "    date_range_df.show(truncate=False)\n",
    "\n",
    "\n",
    "# Games DataFrame\n",
    "print(\"Games DF\")\n",
    "getDateRange(games_df)\n",
    "\n",
    "# Recommendations DataFrame\n",
    "print(\"Recommendations DF\")\n",
    "getDateRange(recommendations_df)\n",
    "\n",
    "\n"
   ]
  },
  {
   "cell_type": "markdown",
   "metadata": {
    "application/vnd.databricks.v1+cell": {
     "cellMetadata": {
      "byteLimit": 2048000,
      "rowLimit": 10000
     },
     "inputWidgets": {},
     "nuid": "c36bf9fb-e216-443b-bb9e-26476c4c2ec2",
     "showTitle": false,
     "tableResultSettingsMap": {},
     "title": ""
    }
   },
   "source": [
    "### 2.9 Data Range Check"
   ]
  },
  {
   "cell_type": "code",
   "execution_count": 0,
   "metadata": {
    "application/vnd.databricks.v1+cell": {
     "cellMetadata": {
      "byteLimit": 2048000,
      "rowLimit": 10000
     },
     "inputWidgets": {},
     "nuid": "5c94f1b2-8f2b-4473-92e5-844bccb9c25c",
     "showTitle": false,
     "tableResultSettingsMap": {},
     "title": ""
    }
   },
   "outputs": [],
   "source": [
    "from pyspark.sql.functions import col, min, max\n",
    "from pyspark.sql.types import NumericType, DateType, TimestampType\n",
    "\n",
    "def get_column_ranges(df):\n",
    "    \"\"\"\n",
    "    Prints min and max for each numeric, date, or timestamp column in the given PySpark DataFrame.\n",
    "    \"\"\"\n",
    "    # Identify relevant columns\n",
    "    target_cols = [\n",
    "        field.name for field in df.schema.fields\n",
    "        if isinstance(field.dataType, (NumericType, DateType, TimestampType))\n",
    "    ]\n",
    "\n",
    "    if not target_cols:\n",
    "        print(\"No numeric or date columns found.\")\n",
    "        return\n",
    "\n",
    "    # Create min and max aggregation expressions\n",
    "    agg_exprs = []\n",
    "    for col_name in target_cols:\n",
    "        agg_exprs.append(min(col(col_name)).alias(f\"{col_name}_min\"))\n",
    "        agg_exprs.append(max(col(col_name)).alias(f\"{col_name}_max\"))\n",
    "\n",
    "    # Show the result\n",
    "    df.select(agg_exprs).show(truncate=False)\n",
    "\n",
    "\n",
    "get_column_ranges(games_df)\n",
    "get_column_ranges(recommendations_df)\n"
   ]
  },
  {
   "cell_type": "markdown",
   "metadata": {
    "application/vnd.databricks.v1+cell": {
     "cellMetadata": {},
     "inputWidgets": {},
     "nuid": "4ad6efd4-5673-48c0-b556-3ac0dcd010b9",
     "showTitle": false,
     "tableResultSettingsMap": {},
     "title": ""
    }
   },
   "source": [
    "### 2.10 Value Distribution for Categorical/Boolean Fields"
   ]
  },
  {
   "cell_type": "code",
   "execution_count": 0,
   "metadata": {
    "application/vnd.databricks.v1+cell": {
     "cellMetadata": {
      "byteLimit": 2048000,
      "rowLimit": 10000
     },
     "inputWidgets": {},
     "nuid": "41172a55-9ddb-44f8-9cc0-61de8109f202",
     "showTitle": false,
     "tableResultSettingsMap": {},
     "title": ""
    }
   },
   "outputs": [],
   "source": [
    "def get_categorical_distribution(df, col_name):\n",
    "    \"\"\"\n",
    "    Prints the distribution (value counts) for a categorical column in descending order.\n",
    "    \n",
    "    Args:\n",
    "        df (DataFrame): PySpark DataFrame\n",
    "        col_name (str): Name of the categorical column\n",
    "    \n",
    "    Returns:\n",
    "        None (prints the distribution)\n",
    "    \"\"\"\n",
    "    df.groupBy(col_name).count() \\\n",
    "      .orderBy(\"count\", ascending=False) \\\n",
    "      .show(truncate=False)\n",
    "\n",
    "\n"
   ]
  },
  {
   "cell_type": "code",
   "execution_count": 0,
   "metadata": {
    "application/vnd.databricks.v1+cell": {
     "cellMetadata": {
      "byteLimit": 2048000,
      "rowLimit": 10000
     },
     "inputWidgets": {},
     "nuid": "9b166300-bd48-4353-aee8-1f02c03fdb95",
     "showTitle": false,
     "tableResultSettingsMap": {},
     "title": ""
    }
   },
   "outputs": [],
   "source": [
    "# Games DF\n",
    "get_categorical_distribution(games_df, \"rating\")\n",
    "get_categorical_distribution(games_df, \"win\")\n",
    "get_categorical_distribution(games_df, \"mac\")\n",
    "get_categorical_distribution(games_df, \"linux\")\n",
    "get_categorical_distribution(games_df, \"steam_deck\")\n",
    "\n",
    "# Recommendations DF \n",
    "\n",
    "get_categorical_distribution(recommendations_df, \"is_recommended\")\n"
   ]
  },
  {
   "cell_type": "markdown",
   "metadata": {
    "application/vnd.databricks.v1+cell": {
     "cellMetadata": {
      "byteLimit": 2048000,
      "rowLimit": 10000
     },
     "inputWidgets": {},
     "nuid": "636c6e4f-dd53-4082-b80d-470f6858b8e9",
     "showTitle": false,
     "tableResultSettingsMap": {},
     "title": ""
    }
   },
   "source": []
  }
 ],
 "metadata": {
  "application/vnd.databricks.v1+notebook": {
   "computePreferences": null,
   "dashboards": [],
   "environmentMetadata": {
    "base_environment": "",
    "environment_version": "2"
   },
   "inputWidgetPreferences": null,
   "language": "python",
   "notebookMetadata": {
    "pythonIndentUnit": 4
   },
   "notebookName": "01_Data_Exploration",
   "widgets": {}
  },
  "language_info": {
   "name": "python"
  }
 },
 "nbformat": 4,
 "nbformat_minor": 0
}
